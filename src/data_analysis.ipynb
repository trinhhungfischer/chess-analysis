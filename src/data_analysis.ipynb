{
 "cells": [
  {
   "cell_type": "markdown",
   "metadata": {},
   "source": [
    "# Import library and import data"
   ]
  },
  {
   "cell_type": "code",
   "execution_count": null,
   "metadata": {},
   "outputs": [],
   "source": [
    "import chess\n",
    "import chess.pgn as pgn\n",
    "import pandas as pd\n",
    "import matplotlib.pylab as plt\n",
    "import seaborn as sns\n",
    "import os"
   ]
  },
  {
   "cell_type": "markdown",
   "metadata": {},
   "source": [
    "# ETL data\n",
    "**Caution: If the directory \"./piece-analysis.csv\" existed and had data, you can pass this part.**\n",
    "\n",
    "\n",
    "This part is used to extract, transform and load data from the raw chess game data in order to create a new dataset"
   ]
  },
  {
   "cell_type": "code",
   "execution_count": null,
   "metadata": {},
   "outputs": [],
   "source": [
    "players = ['Caruana', 'Polgar', 'Fischer', 'Morphy', 'Botvinnik', 'Tal',\n",
    " 'Kasparov', 'Anand', 'Carlsen', 'Nakamura', 'Alekhine', 'Capablanca']"
   ]
  },
  {
   "cell_type": "code",
   "execution_count": null,
   "metadata": {},
   "outputs": [],
   "source": [
    "end_game_turn = [0] * 400\n",
    "game_count = 0 \n",
    "game_result = {'1/2-1/2': 0, '1-0': 0, '0-1': 0}"
   ]
  },
  {
   "cell_type": "code",
   "execution_count": null,
   "metadata": {},
   "outputs": [],
   "source": [
    "for player in players:\n",
    "  gameList = os.listdir('../raw_game/' + player)\n",
    "  for game in gameList:\n",
    "    game_count += 1\n",
    "    \n",
    "    gameLink = '../raw_game/' + player + '/' + game\n",
    "    \n",
    "    pgn = open(gameLink, encoding=\"utf-8\")\n",
    "\n",
    "    first_game = chess.pgn.read_game(pgn)\n",
    "    board = first_game.board()\n",
    "    \n",
    "    if first_game.headers['Result'] != \"*\":\n",
    "      game_result[first_game.headers['Result']] += 1\n",
    "    else:\n",
    "      game_result['1/2-1/2'] += 1\n",
    "    \n",
    "    \n",
    "    for turn, move in enumerate(first_game.mainline_moves()):\n",
    "      board.push(move)\n",
    "      board_str = str(board)\n",
    "          \n",
    "    end_game_turn[turn] += 1"
   ]
  },
  {
   "cell_type": "markdown",
   "metadata": {},
   "source": [
    "# Analysis about data here"
   ]
  },
  {
   "cell_type": "markdown",
   "metadata": {},
   "source": [
    "## Number of chess game"
   ]
  },
  {
   "cell_type": "code",
   "execution_count": null,
   "metadata": {},
   "outputs": [],
   "source": [
    "game_count"
   ]
  },
  {
   "cell_type": "markdown",
   "metadata": {},
   "source": [
    "## Chess result analysis\n",
    "With draw result the file log is '1/2-1/2' with 8844 games, white win with '1-0' in 7589 games and black win with '0-1' in 5154 games"
   ]
  },
  {
   "cell_type": "code",
   "execution_count": null,
   "metadata": {},
   "outputs": [],
   "source": [
    "game_result"
   ]
  },
  {
   "cell_type": "markdown",
   "metadata": {},
   "source": [
    "## Length of chess game"
   ]
  },
  {
   "cell_type": "code",
   "execution_count": null,
   "metadata": {},
   "outputs": [],
   "source": [
    "sum = 0\n",
    "for (turn, frequency) in enumerate(end_game_turn):\n",
    "  sum += (turn + 1) * frequency"
   ]
  },
  {
   "cell_type": "code",
   "execution_count": null,
   "metadata": {},
   "outputs": [],
   "source": [
    "# Length of chess turn\n",
    "sum / game_count"
   ]
  }
 ],
 "metadata": {
  "language_info": {
   "name": "python"
  },
  "orig_nbformat": 4
 },
 "nbformat": 4,
 "nbformat_minor": 2
}
